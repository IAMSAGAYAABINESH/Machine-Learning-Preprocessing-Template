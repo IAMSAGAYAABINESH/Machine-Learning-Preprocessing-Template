{
  "nbformat": 4,
  "nbformat_minor": 0,
  "metadata": {
    "colab": {
      "provenance": []
    },
    "kernelspec": {
      "name": "python3",
      "display_name": "Python 3"
    },
    "language_info": {
      "name": "python"
    }
  },
  "cells": [
    {
      "cell_type": "code",
      "execution_count": null,
      "metadata": {
        "id": "VhCPmgAD7sOg"
      },
      "outputs": [],
      "source": [
        "from  sklearn.impute import SimpleImputer\n",
        "imputer=SimpleImputer(missing_values=np.nan ,strategy=\"mean\")\n",
        "imputer.fit(x[:,1:3])\n",
        "x[:,1:3]=imputer.transform(x[:,1:3])"
      ]
    }
  ]
}